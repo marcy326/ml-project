{
 "cells": [
  {
   "cell_type": "code",
   "execution_count": 1,
   "id": "a52ad789-2ed2-4730-a174-8b79a16a5e41",
   "metadata": {},
   "outputs": [
    {
     "name": "stderr",
     "output_type": "stream",
     "text": [
      "/home/marcy/dev/Python/kaggle/.venv/lib/python3.10/site-packages/dask/dataframe/_pyarrow_compat.py:17: FutureWarning: Minimal version of pyarrow will soon be increased to 14.0.1. You are using 8.0.0. Please consider upgrading.\n",
      "  warnings.warn(\n"
     ]
    }
   ],
   "source": [
    "import os\n",
    "import mlflow\n",
    "from train import load_yaml"
   ]
  },
  {
   "cell_type": "code",
   "execution_count": 2,
   "id": "fd1614fe-951e-4413-a55c-7717ce1da873",
   "metadata": {},
   "outputs": [
    {
     "name": "stderr",
     "output_type": "stream",
     "text": [
      "2024/02/23 12:33:10 INFO mlflow.projects.utils: === Fetching project from http://192.168.1.3:1080/mlteam/ml-project into /tmp/tmpypl06p3_ ===\n",
      "2024/02/23 12:33:11 INFO mlflow.projects.utils: Fetched 'main' branch\n",
      "2024/02/23 12:33:11 INFO mlflow.utils.virtualenv: Installing python 3.10.12 if it does not exist\n",
      "2024/02/23 12:33:11 INFO mlflow.utils.virtualenv: Environment /home/marcy/.mlflow/envs/mlflow-84a0a9a6d62dee2d37adc9fd4ee1dddd6b958539 already exists\n",
      "2024/02/23 12:33:11 INFO mlflow.projects.utils: === Created directory /tmp/tmpt4u6944c for downloading remote URIs passed to arguments of type 'path' ===\n",
      "2024/02/23 12:33:11 INFO mlflow.projects.backend.local: === Running command 'source /home/marcy/.mlflow/envs/mlflow-84a0a9a6d62dee2d37adc9fd4ee1dddd6b958539/bin/activate && python train.py' in run with ID '35f650b5-9bf1-47a7-be85-a13369cf06c0' === \n",
      "/home/marcy/.mlflow/envs/mlflow-84a0a9a6d62dee2d37adc9fd4ee1dddd6b958539/lib/python3.10/site-packages/mlflow/data/digest_utils.py:29: FutureWarning: DataFrame.applymap has been deprecated. Use DataFrame.map instead.\n",
      "  string_columns = trimmed_df.columns[(df.applymap(type) == str).all(0)]\n",
      "/home/marcy/.mlflow/envs/mlflow-84a0a9a6d62dee2d37adc9fd4ee1dddd6b958539/lib/python3.10/site-packages/mlflow/types/utils.py:393: UserWarning: Hint: Inferred schema contains integer column(s). Integer columns in Python cannot represent missing values. If your input data contains missing values at inference time, it will be encoded as floats and will cause a schema enforcement error. The best way to avoid this problem is to infer the model schema based on a realistic data sample (training dataset) that includes missing values. Alternatively, you can declare integer columns as doubles (float64) whenever these columns may have missing values. See `Handling Integers With Missing Values <https://www.mlflow.org/docs/latest/models.html#handling-integers-with-missing-values>`_ for more details.\n",
      "  warnings.warn(\n",
      "Traceback (most recent call last):\n",
      "  File \"/tmp/tmpypl06p3_/train.py\", line 123, in <module>\n",
      "    mlflow.log_input(dataset, context=\"training\")\n",
      "  File \"/home/marcy/.mlflow/envs/mlflow-84a0a9a6d62dee2d37adc9fd4ee1dddd6b958539/lib/python3.10/site-packages/mlflow/tracking/fluent.py\", line 915, in log_input\n",
      "    MlflowClient().log_inputs(run_id=run_id, datasets=[dataset_input])\n",
      "  File \"/home/marcy/.mlflow/envs/mlflow-84a0a9a6d62dee2d37adc9fd4ee1dddd6b958539/lib/python3.10/site-packages/mlflow/tracking/client.py\", line 1112, in log_inputs\n",
      "    self._tracking_client.log_inputs(run_id, datasets)\n",
      "  File \"/home/marcy/.mlflow/envs/mlflow-84a0a9a6d62dee2d37adc9fd4ee1dddd6b958539/lib/python3.10/site-packages/mlflow/tracking/_tracking_service/client.py\", line 484, in log_inputs\n",
      "    self.store.log_inputs(run_id=run_id, datasets=datasets)\n",
      "  File \"/home/marcy/.mlflow/envs/mlflow-84a0a9a6d62dee2d37adc9fd4ee1dddd6b958539/lib/python3.10/site-packages/mlflow/store/tracking/rest_store.py\", line 341, in log_inputs\n",
      "    self._call_endpoint(LogInputs, req_body)\n",
      "  File \"/home/marcy/.mlflow/envs/mlflow-84a0a9a6d62dee2d37adc9fd4ee1dddd6b958539/lib/python3.10/site-packages/mlflow/store/tracking/rest_store.py\", line 59, in _call_endpoint\n",
      "    return call_endpoint(self.get_host_creds(), endpoint, method, json_body, response_proto)\n",
      "  File \"/home/marcy/.mlflow/envs/mlflow-84a0a9a6d62dee2d37adc9fd4ee1dddd6b958539/lib/python3.10/site-packages/mlflow/utils/rest_utils.py\", line 220, in call_endpoint\n",
      "    response = verify_rest_response(response, endpoint)\n",
      "  File \"/home/marcy/.mlflow/envs/mlflow-84a0a9a6d62dee2d37adc9fd4ee1dddd6b958539/lib/python3.10/site-packages/mlflow/utils/rest_utils.py\", line 152, in verify_rest_response\n",
      "    raise RestException(json.loads(response.text))\n",
      "mlflow.exceptions.RestException: INTERNAL_ERROR: Response: {'error': '404 Not Found'}\n"
     ]
    },
    {
     "ename": "ExecutionException",
     "evalue": "Run (ID '35f650b5-9bf1-47a7-be85-a13369cf06c0') failed",
     "output_type": "error",
     "traceback": [
      "\u001b[0;31m---------------------------------------------------------------------------\u001b[0m",
      "\u001b[0;31mExecutionException\u001b[0m                        Traceback (most recent call last)",
      "Cell \u001b[0;32mIn[2], line 16\u001b[0m\n\u001b[1;32m     13\u001b[0m \u001b[38;5;28;01melse\u001b[39;00m: \u001b[38;5;66;03m# 当該Experiment存在するとき、IDを取得\u001b[39;00m\n\u001b[1;32m     14\u001b[0m     experiment_id \u001b[38;5;241m=\u001b[39m experiment\u001b[38;5;241m.\u001b[39mexperiment_id\n\u001b[0;32m---> 16\u001b[0m projects_run \u001b[38;5;241m=\u001b[39m \u001b[43mmlflow\u001b[49m\u001b[38;5;241;43m.\u001b[39;49m\u001b[43mprojects\u001b[49m\u001b[38;5;241;43m.\u001b[39;49m\u001b[43mrun\u001b[49m\u001b[43m(\u001b[49m\u001b[43muri\u001b[49m\u001b[38;5;241;43m=\u001b[39;49m\u001b[43mPROJECT_URI\u001b[49m\u001b[43m,\u001b[49m\u001b[43m \u001b[49m\u001b[43menv_manager\u001b[49m\u001b[38;5;241;43m=\u001b[39;49m\u001b[38;5;124;43m\"\u001b[39;49m\u001b[38;5;124;43mvirtualenv\u001b[39;49m\u001b[38;5;124;43m\"\u001b[39;49m\u001b[43m,\u001b[49m\u001b[43m \u001b[49m\u001b[43mexperiment_id\u001b[49m\u001b[38;5;241;43m=\u001b[39;49m\u001b[43mexperiment_id\u001b[49m\u001b[43m)\u001b[49m\n",
      "File \u001b[0;32m~/dev/Python/kaggle/.venv/lib/python3.10/site-packages/mlflow/projects/__init__.py:354\u001b[0m, in \u001b[0;36mrun\u001b[0;34m(uri, entry_point, version, parameters, docker_args, experiment_name, experiment_id, backend, backend_config, storage_dir, synchronous, run_id, run_name, env_manager, build_image, docker_auth)\u001b[0m\n\u001b[1;32m    337\u001b[0m submitted_run_obj \u001b[38;5;241m=\u001b[39m _run(\n\u001b[1;32m    338\u001b[0m     uri\u001b[38;5;241m=\u001b[39muri,\n\u001b[1;32m    339\u001b[0m     experiment_id\u001b[38;5;241m=\u001b[39mexperiment_id,\n\u001b[0;32m   (...)\u001b[0m\n\u001b[1;32m    351\u001b[0m     docker_auth\u001b[38;5;241m=\u001b[39mdocker_auth,\n\u001b[1;32m    352\u001b[0m )\n\u001b[1;32m    353\u001b[0m \u001b[38;5;28;01mif\u001b[39;00m synchronous:\n\u001b[0;32m--> 354\u001b[0m     \u001b[43m_wait_for\u001b[49m\u001b[43m(\u001b[49m\u001b[43msubmitted_run_obj\u001b[49m\u001b[43m)\u001b[49m\n\u001b[1;32m    355\u001b[0m \u001b[38;5;28;01mreturn\u001b[39;00m submitted_run_obj\n",
      "File \u001b[0;32m~/dev/Python/kaggle/.venv/lib/python3.10/site-packages/mlflow/projects/__init__.py:371\u001b[0m, in \u001b[0;36m_wait_for\u001b[0;34m(submitted_run_obj)\u001b[0m\n\u001b[1;32m    369\u001b[0m     \u001b[38;5;28;01melse\u001b[39;00m:\n\u001b[1;32m    370\u001b[0m         _maybe_set_run_terminated(active_run, \u001b[38;5;124m\"\u001b[39m\u001b[38;5;124mFAILED\u001b[39m\u001b[38;5;124m\"\u001b[39m)\n\u001b[0;32m--> 371\u001b[0m         \u001b[38;5;28;01mraise\u001b[39;00m ExecutionException(\u001b[38;5;124mf\u001b[39m\u001b[38;5;124m\"\u001b[39m\u001b[38;5;124mRun (ID \u001b[39m\u001b[38;5;124m'\u001b[39m\u001b[38;5;132;01m{\u001b[39;00mrun_id\u001b[38;5;132;01m}\u001b[39;00m\u001b[38;5;124m'\u001b[39m\u001b[38;5;124m) failed\u001b[39m\u001b[38;5;124m\"\u001b[39m)\n\u001b[1;32m    372\u001b[0m \u001b[38;5;28;01mexcept\u001b[39;00m \u001b[38;5;167;01mKeyboardInterrupt\u001b[39;00m:\n\u001b[1;32m    373\u001b[0m     _logger\u001b[38;5;241m.\u001b[39merror(\u001b[38;5;124m\"\u001b[39m\u001b[38;5;124m=== Run (ID \u001b[39m\u001b[38;5;124m'\u001b[39m\u001b[38;5;132;01m%s\u001b[39;00m\u001b[38;5;124m'\u001b[39m\u001b[38;5;124m) interrupted, cancelling run ===\u001b[39m\u001b[38;5;124m\"\u001b[39m, run_id)\n",
      "\u001b[0;31mExecutionException\u001b[0m: Run (ID '35f650b5-9bf1-47a7-be85-a13369cf06c0') failed"
     ]
    }
   ],
   "source": [
    "parameters = load_yaml(\"./parameters.yml\")\n",
    "parameters = parameters[\"mlflow\"]\n",
    "TRACKING_URI = parameters[\"TRACKING_URI\"]\n",
    "EXPERIMENT_NAME = parameters[\"EXPERIMENT_NAME\"]\n",
    "PROJECT_URI = parameters[\"PROJECT_URI\"]\n",
    "\n",
    "mlflow.set_tracking_uri(TRACKING_URI)\n",
    "experiment = mlflow.get_experiment_by_name(EXPERIMENT_NAME)\n",
    "if experiment is None:  # 当該Experiment存在しないとき、新たに作成\n",
    "    experiment_id = mlflow.create_experiment(\n",
    "                            name=EXPERIMENT_NAME)\n",
    "else: # 当該Experiment存在するとき、IDを取得\n",
    "    experiment_id = experiment.experiment_id\n",
    "\n",
    "projects_run = mlflow.projects.run(uri=PROJECT_URI, env_manager=\"virtualenv\", experiment_id=experiment_id)"
   ]
  },
  {
   "cell_type": "code",
   "execution_count": null,
   "id": "b0d70950-6710-4798-869d-e9697ea10f15",
   "metadata": {},
   "outputs": [],
   "source": [
    "from mlflow import MlflowClient\n",
    "\n",
    "client = MlflowClient()\n",
    "run_id = projects_run.run_id\n",
    "run = client.get_run(run_id)\n",
    "run"
   ]
  },
  {
   "cell_type": "code",
   "execution_count": null,
   "id": "79fa1a16-2f6c-41e3-afe1-429c8e74331d",
   "metadata": {},
   "outputs": [],
   "source": [
    "tags = run.data.tags\n",
    "tags"
   ]
  },
  {
   "cell_type": "code",
   "execution_count": null,
   "id": "393d5ec5-cc47-48b1-bf35-382c899f5899",
   "metadata": {},
   "outputs": [],
   "source": [
    "source_url = f\"{tags['mlflow.source.git.repoURL']}/-/tree/{tags['mlflow.source.git.commit']}\"\n",
    "client.set_tag(run_id, 'mlflow.note.content', source_url)"
   ]
  },
  {
   "cell_type": "code",
   "execution_count": null,
   "id": "e050332d-0321-4f99-af25-052a5a75b564",
   "metadata": {},
   "outputs": [],
   "source": [
    "run = client.get_run(run_id)\n",
    "run.data.tags"
   ]
  },
  {
   "cell_type": "code",
   "execution_count": null,
   "id": "357945cf-26b3-4d49-9305-7cad18b35c62",
   "metadata": {},
   "outputs": [],
   "source": []
  }
 ],
 "metadata": {
  "kernelspec": {
   "display_name": "kaggle",
   "language": "python",
   "name": "kaggle"
  },
  "language_info": {
   "codemirror_mode": {
    "name": "ipython",
    "version": 3
   },
   "file_extension": ".py",
   "mimetype": "text/x-python",
   "name": "python",
   "nbconvert_exporter": "python",
   "pygments_lexer": "ipython3",
   "version": "3.10.12"
  }
 },
 "nbformat": 4,
 "nbformat_minor": 5
}
